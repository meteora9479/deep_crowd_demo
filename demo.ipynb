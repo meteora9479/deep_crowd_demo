{
 "cells": [
  {
   "cell_type": "code",
   "execution_count": 1,
   "metadata": {
    "collapsed": false,
    "scrolled": false
   },
   "outputs": [],
   "source": [
    "import numpy as np\n",
    "import matplotlib.pyplot as plt\n",
    "from PIL import Image\n",
    "import caffe"
   ]
  },
  {
   "cell_type": "code",
   "execution_count": 4,
   "metadata": {
    "collapsed": true
   },
   "outputs": [],
   "source": [
    "caffe.set_mode_gpu()\n",
    "\n",
    "net = caffe.Net('data_rgbm_all_www_deploy_top_combine_upgrade.prototxt', \n",
    "                'data_rgbm_all_www_top_combine_model_upgrade.caffemodel',caffe.TEST)"
   ]
  },
  {
   "cell_type": "code",
   "execution_count": 23,
   "metadata": {
    "collapsed": false
   },
   "outputs": [
    {
     "name": "stdout",
     "output_type": "stream",
     "text": [
      "(360, 640, 3, 7)\n",
      "(360, 640, 3, 7)\n"
     ]
    }
   ],
   "source": [
    "import scipy.io\n",
    "\n",
    "rgb_channel = scipy.io.loadmat('video_channelData/abnormal/data_rgb_2010-291_l.mat')\n",
    "motion_channel = scipy.io.loadmat('video_channelData/abnormal/data_motion_2010-291_l.mat')\n",
    "\n",
    "print(rgb_channel['channel_img_batch'].shape)\n",
    "print(motion_channel['channel_img_batch'].shape)"
   ]
  },
  {
   "cell_type": "code",
   "execution_count": null,
   "metadata": {
    "collapsed": true
   },
   "outputs": [],
   "source": []
  }
 ],
 "metadata": {
  "kernelspec": {
   "display_name": "Python 2",
   "language": "python",
   "name": "python2"
  },
  "language_info": {
   "codemirror_mode": {
    "name": "ipython",
    "version": 2
   },
   "file_extension": ".py",
   "mimetype": "text/x-python",
   "name": "python",
   "nbconvert_exporter": "python",
   "pygments_lexer": "ipython2",
   "version": "2.7.10"
  }
 },
 "nbformat": 4,
 "nbformat_minor": 0
}
